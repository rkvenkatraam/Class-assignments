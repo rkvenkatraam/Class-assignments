{
 "cells": [
  {
   "cell_type": "code",
   "execution_count": 19,
   "id": "1b80ab4e",
   "metadata": {},
   "outputs": [],
   "source": [
    "#from libraryfile import classname\n",
    "from NewMulFunLib import NewMultipleFunctions"
   ]
  },
  {
   "cell_type": "code",
   "execution_count": 5,
   "id": "7af49107",
   "metadata": {},
   "outputs": [
    {
     "name": "stdout",
     "output_type": "stream",
     "text": [
      "Sub-Fields in AI are : \n",
      "Machine Learning\n",
      "Neural Networks\n",
      "Vision\n",
      "Robotics\n",
      "Speech Processing\n",
      "Natural Language Processing\n"
     ]
    }
   ],
   "source": [
    "NewMultipleFunctions.subfields()"
   ]
  },
  {
   "cell_type": "code",
   "execution_count": 6,
   "id": "b9679fb6",
   "metadata": {},
   "outputs": [
    {
     "name": "stdout",
     "output_type": "stream",
     "text": [
      "Enter The number : 25\n",
      "25 is Odd number\n"
     ]
    }
   ],
   "source": [
    "NewMultipleFunctions.oddEven()"
   ]
  },
  {
   "cell_type": "code",
   "execution_count": 7,
   "id": "c62b56ca",
   "metadata": {},
   "outputs": [
    {
     "name": "stdout",
     "output_type": "stream",
     "text": [
      "Enter your gender : male\n",
      "Enter your age : 21\n",
      "ELIGIBLE\n"
     ]
    }
   ],
   "source": [
    "NewMultipleFunctions.eligible()"
   ]
  },
  {
   "cell_type": "code",
   "execution_count": 21,
   "id": "9233c417",
   "metadata": {},
   "outputs": [
    {
     "name": "stdout",
     "output_type": "stream",
     "text": [
      "Subject1 : 12\n",
      "Subject2 : 96\n",
      "Subject3 : 87\n",
      "Subject4 : 93\n",
      "Subject5 : 75\n",
      "Total :  363\n",
      "Percentage :  72.6\n",
      "Result : FAIL\n"
     ]
    }
   ],
   "source": [
    "NewMultipleFunctions.percentage()"
   ]
  },
  {
   "cell_type": "code",
   "execution_count": 22,
   "id": "09e57b69",
   "metadata": {},
   "outputs": [
    {
     "name": "stdout",
     "output_type": "stream",
     "text": [
      "Entre the Height of the Triangle : 12\n",
      "Entre the Breadth of the Triangle : 23\n",
      "Height : 12\n",
      "Breadth : 23\n",
      "Area of Triangle Formula :  (Height*Breadth)/2\n",
      "Area of Triangle : 138.0\n"
     ]
    }
   ],
   "source": [
    "NewMultipleFunctions.areaTriangle()"
   ]
  },
  {
   "cell_type": "code",
   "execution_count": 23,
   "id": "2f63fb5b",
   "metadata": {},
   "outputs": [
    {
     "name": "stdout",
     "output_type": "stream",
     "text": [
      "Entre the Height1 of the Triangle : 10\n",
      "Entre the Height2 of the Triangle : 20\n",
      "Entre the Breadth of the Triangle : 30\n",
      "Height1 : 10\n",
      "Height2 : 20\n",
      "Breadth1 : 30\n",
      "Perimeter of Triangle Formula :  Height1*+ Height2 + Breadth1\n",
      "Perimeter of Triangle :  60\n"
     ]
    }
   ],
   "source": [
    "NewMultipleFunctions.perimeterTriangle()"
   ]
  },
  {
   "cell_type": "code",
   "execution_count": null,
   "id": "286c6633",
   "metadata": {},
   "outputs": [],
   "source": []
  }
 ],
 "metadata": {
  "kernelspec": {
   "display_name": "Python 3 (ipykernel)",
   "language": "python",
   "name": "python3"
  },
  "language_info": {
   "codemirror_mode": {
    "name": "ipython",
    "version": 3
   },
   "file_extension": ".py",
   "mimetype": "text/x-python",
   "name": "python",
   "nbconvert_exporter": "python",
   "pygments_lexer": "ipython3",
   "version": "3.11.5"
  }
 },
 "nbformat": 4,
 "nbformat_minor": 5
}
